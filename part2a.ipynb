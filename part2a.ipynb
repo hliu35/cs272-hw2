{
 "cells": [
  {
   "cell_type": "markdown",
   "metadata": {},
   "source": [
    "## 2. Rating Prediction\n",
    "\n",
    "Now as the dataset has been prepared, it can now be used."
   ]
  },
  {
   "cell_type": "code",
   "execution_count": 1,
   "metadata": {},
   "outputs": [],
   "source": [
    "import math\n",
    "import time\n",
    "import pickle\n",
    "\n",
    "import numpy as np\n",
    "import pandas as pd\n",
    "from scipy import sparse\n",
    "from sklearn.metrics import mean_squared_error\n",
    "from sklearn.metrics import mean_absolute_error\n",
    "from sklearn.metrics.pairwise import cosine_similarity\n",
    "\n",
    "import utils as UT\n",
    "\n",
    "#np.random.seed(40)"
   ]
  },
  {
   "cell_type": "code",
   "execution_count": 2,
   "metadata": {},
   "outputs": [],
   "source": [
    "DF = pd.read_pickle(\"DF.pickle\")\n",
    "with open(\"indices.pickle\", \"rb\") as f:\n",
    "    uid_idx, pid_idx, uid_set, pid_set = pickle.load(f)"
   ]
  },
  {
   "cell_type": "code",
   "execution_count": 3,
   "metadata": {
    "tags": []
   },
   "outputs": [
    {
     "output_type": "stream",
     "name": "stdout",
     "text": [
      "prepared 18.36 seconds\n"
     ]
    }
   ],
   "source": [
    "# compute the total number of users\n",
    "m = len(uid_set)\n",
    "n = len(pid_set)\n",
    "\n",
    "user_ratings = UT.prepare_table(DF, (m, n), uid_idx, pid_idx)\n",
    "#user_ratings = sparse.csr_matrix(user_ratings) # convert to sparse matrix so saves memory\n",
    "#bitmask = np.random.rand(m, n) > 0.8\n",
    "bitmask = UT.generate_bitmask(user_ratings, 0.8)\n",
    "train = user_ratings.copy()\n",
    "train[bitmask] = 0"
   ]
  },
  {
   "cell_type": "code",
   "execution_count": 4,
   "metadata": {},
   "outputs": [],
   "source": [
    "with open(\"user_ratings.pickle\", \"wb\") as f:\n",
    "    pickle.dump([user_ratings], f)"
   ]
  },
  {
   "cell_type": "markdown",
   "metadata": {},
   "source": [
    "### 2a. Item-based Collaborative Filtering\n",
    "This similarity function can take many forms, such as correlation between ratings or cosine of those rating vectors"
   ]
  },
  {
   "source": [
    "tr2 = train.view()\n",
    "tr2_transposed = np.transpose(tr2)\n",
    "\n",
    "review_similarities = cosine_similarity(tr2_transposed)"
   ],
   "cell_type": "code",
   "metadata": {},
   "execution_count": 5,
   "outputs": []
  },
  {
   "source": [
    "I = np.identity(n)\n",
    "review_similarities = review_similarities - I\n",
    "rs_transposed = np.transpose(review_similarities)\n",
    "\n",
    "prediction_sum = np.matmul(train, rs_transposed)\n",
    "weight_sum = np.sum(rs_transposed, axis=0, keepdims=True)\n",
    "weight_sum[weight_sum == 0] = np.infty"
   ],
   "cell_type": "code",
   "metadata": {},
   "execution_count": 6,
   "outputs": []
  },
  {
   "source": [
    "predictions = np.divide(prediction_sum, weight_sum)"
   ],
   "cell_type": "code",
   "metadata": {},
   "execution_count": 7,
   "outputs": []
  },
  {
   "source": [
    "(DO NOT USE. This is a non-vectorized way, which is more accurate, but extremely slow)\n",
    "```\n",
    "start = time.time()\n",
    "predictions = UT.my_cosine_similarity(train)\n",
    "end = time.time()\n",
    "print(end-start)\n",
    "```"
   ],
   "cell_type": "markdown",
   "metadata": {}
  },
  {
   "source": [
    "mask = train != 0\n",
    "predictions[mask] = 0\n",
    "\n",
    "row_min = np.min(predictions, axis=1, keepdims=True)\n",
    "row_max = np.max(predictions, axis=1, keepdims=True)\n",
    "scaled_pred = (predictions-row_min) / (row_max+0.01-row_min) * 5\n",
    "\n",
    "predictions = scaled_pred + train"
   ],
   "cell_type": "code",
   "metadata": {},
   "execution_count": 8,
   "outputs": []
  },
  {
   "cell_type": "code",
   "execution_count": 9,
   "metadata": {},
   "outputs": [],
   "source": [
    "test_mask = np.nonzero(user_ratings - train) # area of test\n",
    "Y = user_ratings[test_mask]\n",
    "Yhat = predictions[test_mask]"
   ]
  },
  {
   "cell_type": "code",
   "execution_count": 10,
   "metadata": {},
   "outputs": [
    {
     "output_type": "stream",
     "name": "stdout",
     "text": [
      "176703\n"
     ]
    }
   ],
   "source": [
    "num_data = np.shape(test_mask)[1]\n",
    "#num_data = np.count_nonzero(Y)\n",
    "print(num_data)\n",
    "mse = mean_squared_error(Y, Yhat)\n",
    "rmse = math.sqrt(mse/num_data)\n",
    "rse = math.sqrt(mse/(num_data-2))\n",
    "#mae=mean_absolute_error(Y, Yhat)\n",
    "mae = np.mean(Y - Yhat)"
   ]
  },
  {
   "cell_type": "code",
   "execution_count": 11,
   "metadata": {},
   "outputs": [
    {
     "output_type": "stream",
     "name": "stdout",
     "text": [
      "Mean Absolute Error (MAE): 4.06\nRoot Mean Square Error (RMSE): 0.01\n"
     ]
    }
   ],
   "source": [
    "print(\"Mean Absolute Error (MAE): %.2f\"%(mae))\n",
    "print(\"Root Mean Square Error (RMSE): %.2f\"%rmse)\n"
   ]
  },
  {
   "source": [
    "#### *continues in *`part2b.ipynb`"
   ],
   "cell_type": "markdown",
   "metadata": {}
  }
 ],
 "metadata": {
  "kernelspec": {
   "display_name": "Python 3",
   "language": "python",
   "name": "python3"
  },
  "language_info": {
   "codemirror_mode": {
    "name": "ipython",
    "version": 3
   },
   "file_extension": ".py",
   "mimetype": "text/x-python",
   "name": "python",
   "nbconvert_exporter": "python",
   "pygments_lexer": "ipython3",
   "version": "3.8.5"
  }
 },
 "nbformat": 4,
 "nbformat_minor": 4
}